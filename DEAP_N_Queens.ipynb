{
  "nbformat": 4,
  "nbformat_minor": 0,
  "metadata": {
    "colab": {
      "name": "DEAP_n_queens_on_canvas.ipynb",
      "provenance": [],
      "collapsed_sections": [],
      "toc_visible": true
    },
    "kernelspec": {
      "display_name": "Python 3",
      "language": "python",
      "name": "python3"
    },
    "language_info": {
      "codemirror_mode": {
        "name": "ipython",
        "version": 3
      },
      "file_extension": ".py",
      "mimetype": "text/x-python",
      "name": "python",
      "nbconvert_exporter": "python",
      "pygments_lexer": "ipython3",
      "version": "3.7.3"
    }
  },
  "cells": [
    {
      "cell_type": "code",
      "metadata": {
        "colab": {
          "base_uri": "https://localhost:8080/"
        },
        "id": "LcEVm7paVOTo",
        "outputId": "0f1f96df-5632-46b0-be66-1fc2d1be588e"
      },
      "source": [
        "!pip install deap\n",
        "import deap\n",
        "import random\n",
        "import numpy as np\n",
        "from deap import algorithms, base, creator, tools\n",
        "\n",
        "creator.create(\"FitnessMin\", base.Fitness, weights=(-1.0,))\n",
        "creator.create(\"Individual\", list, fitness=creator.FitnessMin)\n"
      ],
      "execution_count": null,
      "outputs": [
        {
          "output_type": "stream",
          "name": "stdout",
          "text": [
            "Collecting deap\n",
            "  Downloading deap-1.3.1-cp37-cp37m-manylinux_2_5_x86_64.manylinux1_x86_64.manylinux_2_12_x86_64.manylinux2010_x86_64.whl (160 kB)\n",
            "\u001b[?25l\r\u001b[K     |██                              | 10 kB 18.4 MB/s eta 0:00:01\r\u001b[K     |████                            | 20 kB 10.6 MB/s eta 0:00:01\r\u001b[K     |██████                          | 30 kB 6.8 MB/s eta 0:00:01\r\u001b[K     |████████▏                       | 40 kB 6.3 MB/s eta 0:00:01\r\u001b[K     |██████████▏                     | 51 kB 3.2 MB/s eta 0:00:01\r\u001b[K     |████████████▏                   | 61 kB 3.8 MB/s eta 0:00:01\r\u001b[K     |██████████████▎                 | 71 kB 4.1 MB/s eta 0:00:01\r\u001b[K     |████████████████▎               | 81 kB 4.5 MB/s eta 0:00:01\r\u001b[K     |██████████████████▎             | 92 kB 5.0 MB/s eta 0:00:01\r\u001b[K     |████████████████████▍           | 102 kB 4.0 MB/s eta 0:00:01\r\u001b[K     |██████████████████████▍         | 112 kB 4.0 MB/s eta 0:00:01\r\u001b[K     |████████████████████████▍       | 122 kB 4.0 MB/s eta 0:00:01\r\u001b[K     |██████████████████████████▌     | 133 kB 4.0 MB/s eta 0:00:01\r\u001b[K     |████████████████████████████▌   | 143 kB 4.0 MB/s eta 0:00:01\r\u001b[K     |██████████████████████████████▌ | 153 kB 4.0 MB/s eta 0:00:01\r\u001b[K     |████████████████████████████████| 160 kB 4.0 MB/s \n",
            "\u001b[?25hRequirement already satisfied: numpy in /usr/local/lib/python3.7/dist-packages (from deap) (1.21.6)\n",
            "Installing collected packages: deap\n",
            "Successfully installed deap-1.3.1\n"
          ]
        }
      ]
    },
    {
      "cell_type": "markdown",
      "source": [
        "# Initialization of the chess board with eight queens using a position-index-based board representation.\n",
        "### Each 8x8 board is represented by 8 queens with values ranging from 0-64 to indicate its position on the chess board."
      ],
      "metadata": {
        "id": "ObvekHFmOpzT"
      }
    },
    {
      "cell_type": "code",
      "metadata": {
        "id": "AjYwh9eYVOTt"
      },
      "source": [
        "# Create a dataset of 8 queens in random spots on a chess board.\n",
        "def create_individual():\n",
        "    # Returning a set of 8 queens with values ranging from 0-64.\n",
        "    return random.sample(range(64), 8)"
      ],
      "execution_count": null,
      "outputs": []
    },
    {
      "cell_type": "code",
      "metadata": {
        "id": "V3rgKtu_VOTv",
        "colab": {
          "base_uri": "https://localhost:8080/"
        },
        "outputId": "b7cb1c93-5025-44f0-edb7-2a578c795e1b"
      },
      "source": [
        "# Creating and displaying a random chess board with 8 queens.\n",
        "print(create_individual())"
      ],
      "execution_count": null,
      "outputs": [
        {
          "output_type": "stream",
          "name": "stdout",
          "text": [
            "[7, 16, 62, 23, 1, 30, 49, 45]\n"
          ]
        }
      ]
    },
    {
      "cell_type": "code",
      "metadata": {
        "id": "ekoiWdxDVOTy"
      },
      "source": [
        "# Displaying the chess board in a position-index-based representation.\n",
        "def show_grid(board):\n",
        "    \n",
        "    n = [0]*64\n",
        "    for i in board:\n",
        "        n[i] = 1\n",
        "    \n",
        "    \n",
        "    for i in range(8):\n",
        "        for j in range(64):\n",
        "            if j // 8 == i:\n",
        "                if n[j] == 1:\n",
        "                    print('X',end=\"|\")\n",
        "                else:\n",
        "                    print('-',end=\"|\")\n",
        "        print()\n",
        "        print(\"----------------\")"
      ],
      "execution_count": null,
      "outputs": []
    },
    {
      "cell_type": "code",
      "metadata": {
        "id": "N8XtgeUKVOT0"
      },
      "source": [
        "# Creating a toolbox to hold the generated queens.\n",
        "toolbox = base.Toolbox()\n",
        "toolbox.register(\"individual\", tools.initIterate, creator.Individual, create_individual)\n",
        "toolbox.register(\"population\", tools.initRepeat, list, toolbox.individual)"
      ],
      "execution_count": null,
      "outputs": []
    },
    {
      "cell_type": "code",
      "metadata": {
        "id": "YTk0VOT-VOT3",
        "outputId": "a9d0fad4-da48-4af5-b9a0-35860d972f1d",
        "colab": {
          "base_uri": "https://localhost:8080/"
        }
      },
      "source": [
        "# Populating both the toolbox and the chess board to display a possible outcome.\n",
        "pop = toolbox.population(n=5)\n",
        "\n",
        "print(pop[0])\n",
        "show_grid(pop[0])"
      ],
      "execution_count": null,
      "outputs": [
        {
          "output_type": "stream",
          "name": "stdout",
          "text": [
            "[56, 43, 25, 11, 5, 14, 6, 40]\n",
            "-|-|-|-|-|X|X|-|\n",
            "----------------\n",
            "-|-|-|X|-|-|X|-|\n",
            "----------------\n",
            "-|-|-|-|-|-|-|-|\n",
            "----------------\n",
            "-|X|-|-|-|-|-|-|\n",
            "----------------\n",
            "-|-|-|-|-|-|-|-|\n",
            "----------------\n",
            "X|-|-|X|-|-|-|-|\n",
            "----------------\n",
            "-|-|-|-|-|-|-|-|\n",
            "----------------\n",
            "X|-|-|-|-|-|-|-|\n",
            "----------------\n"
          ]
        }
      ]
    },
    {
      "cell_type": "code",
      "metadata": {
        "scrolled": true,
        "id": "_ar2FY3PEzXq",
        "outputId": "4324201c-a96c-4646-a044-cfd0c4092a65",
        "colab": {
          "base_uri": "https://localhost:8080/"
        }
      },
      "source": [
        "# Printing the generated queens and sorting them for evaluation.\n",
        "print(len(pop[0]))\n",
        "print(pop[0])\n",
        "pop[0].sort()\n",
        "print(pop[0])"
      ],
      "execution_count": null,
      "outputs": [
        {
          "output_type": "stream",
          "name": "stdout",
          "text": [
            "8\n",
            "[56, 43, 25, 11, 5, 14, 6, 40]\n",
            "[5, 6, 11, 14, 25, 40, 43, 56]\n"
          ]
        }
      ]
    },
    {
      "cell_type": "markdown",
      "source": [
        "## Evaluating the Fitness of a Board\n",
        "### This function determines if the queens on a position-index-based board representation are valid as a solution to the n-queens problem by linearly analyzing positions of queens. Duplicate queen positions are subsequentially handled."
      ],
      "metadata": {
        "id": "b0zYIPHD91Sc"
      }
    },
    {
      "cell_type": "code",
      "metadata": {
        "id": "ZTHRSMRMVOT8"
      },
      "source": [
        "# Calculating the fitness of a board by checking for any conflicting queens that may attack each other.\n",
        "def evaFitness(individual):\n",
        "\n",
        "    size  = len(individual)\n",
        "    conflicts = 0\n",
        "    for m in range(size):\n",
        "        ## This checks for all possible left diagnal conflicts.\n",
        "        for i in range(size):\n",
        "            ## If the edge of the board is reached, it will break here.\n",
        "            if((individual[m]+(i*(size-1)))%size) == 0:\n",
        "                break\n",
        "            ## Checking if theres anything in the list that conflicts with i*7, \n",
        "            ## moving down in the left diagnal direction.\n",
        "            for n in range(size):\n",
        "                if individual[m]+(i*(size-1)) == individual[n] and individual[m] != individual[n]:\n",
        "                    conflicts += 1\n",
        "        ## This checks for all possible right diagnal conflicts.\n",
        "        for t in range(size):\n",
        "            ## If the edge of the board is reached, it will break here.\n",
        "            if ((individual[m]+(t*(size+1)))%size) == (size-1):\n",
        "                break\n",
        "           ## Checking if theres anything in the list that conflicts with i*9, \n",
        "           ## moving down in the right diagnal direction.\n",
        "            for f in range(size):\n",
        "                if individual[m]+(t*(size+1)) == individual[f] and individual[m] != individual[f]:\n",
        "                    conflicts += 1\n",
        "            \n",
        "    for w in range(0,size):\n",
        "        #this checks for vertical by determining the vertical position with modulus\n",
        "        vertical = individual[w]%size\n",
        "        #this checks for horizontal by determining the horizontal position with divison\n",
        "        horizontal = (individual[w]-vertical)/size\n",
        "        #this checks for horizontal and vertical by comparing the above values \n",
        "        #to the rest of the values in the individual\n",
        "        for j in range(w+1, size):\n",
        "            vertical_check = individual[j]%size\n",
        "            horizontal_check = (individual[j] - vertical_check)/size\n",
        "            if vertical == vertical_check:\n",
        "                conflicts +=1\n",
        "            if horizontal == horizontal_check:\n",
        "                conflicts +=1\n",
        "                \n",
        "    return (checkDuplicate(individual)+conflicts,)\n",
        "    \n",
        "# Determines if there are any queens in duplicate positions that would\n",
        "# result in an invalid board.\n",
        "def checkDuplicate(individual):\n",
        "    dup = 0\n",
        "    size = len(individual)\n",
        "    # Taking a particular position to compare with every other possible \n",
        "    # queen position generated on the current board.\n",
        "    for i in range(size):\n",
        "        for m in range(size):\n",
        "            if individual[i] == individual[m] and i != m:\n",
        "                dup += 1\n",
        "    \n",
        "    return dup\n",
        "    \n",
        "    "
      ],
      "execution_count": null,
      "outputs": []
    },
    {
      "cell_type": "markdown",
      "metadata": {
        "id": "tikbcB_kVOT-"
      },
      "source": [
        "### Registering the new evaluation function and other important functions to the toolbox."
      ]
    },
    {
      "cell_type": "code",
      "metadata": {
        "id": "_eDjyzBlVOUB"
      },
      "source": [
        "# Registering the functions, evaluate, mate, mutate, and select to the toolbox.\n",
        "toolbox.register(\"evaluate\", evaFitness)\n",
        "toolbox.register(\"mate\", tools.cxTwoPoint)\n",
        "toolbox.register(\"mutate\", tools.mutUniformInt, low = 0, up = 63, indpb=0.2)\n",
        "toolbox.register(\"select\", tools.selTournament, tournsize=3)\n",
        "\n",
        "# Additionally, registering a statistics toolbox, with the functions, avg and min.\n",
        "stats = tools.Statistics(key=lambda ind: ind.fitness.values)\n",
        "stats.register(\"avg\", np.mean)\n",
        "stats.register(\"min\", np.min)"
      ],
      "execution_count": null,
      "outputs": []
    },
    {
      "cell_type": "markdown",
      "source": [
        "## Creating the first generation, the hall of fame, and running the eaSimple genetic algorithm for 100 generations. "
      ],
      "metadata": {
        "id": "2Hen28GIAPWW"
      }
    },
    {
      "cell_type": "code",
      "metadata": {
        "id": "SsTaPuPgVOUK",
        "scrolled": true,
        "outputId": "09a5ade0-59f2-4054-c405-e068b09cc2de",
        "colab": {
          "base_uri": "https://localhost:8080/"
        }
      },
      "source": [
        "# Creating a the hall of fame, and running the algorithm for 100 generations.\n",
        "hof = tools.HallOfFame(1)\n",
        "pop = toolbox.population(n=20)\n",
        "pop, logbook = algorithms.eaSimple(pop, toolbox, cxpb=0.5, mutpb=0.5 ,ngen=200, halloffame=hof, stats = stats, verbose = True)\n"
      ],
      "execution_count": null,
      "outputs": [
        {
          "output_type": "stream",
          "name": "stdout",
          "text": [
            "gen\tnevals\tavg\tmin\n",
            "0  \t20    \t8.2\t4  \n",
            "1  \t11    \t7.55\t4  \n",
            "2  \t17    \t7.2 \t4  \n",
            "3  \t14    \t5.7 \t2  \n",
            "4  \t14    \t5.75\t2  \n",
            "5  \t14    \t4.75\t2  \n",
            "6  \t17    \t4.55\t2  \n",
            "7  \t13    \t4.75\t2  \n",
            "8  \t11    \t3.8 \t2  \n",
            "9  \t17    \t4.5 \t2  \n",
            "10 \t14    \t4.35\t2  \n",
            "11 \t12    \t3.5 \t2  \n",
            "12 \t13    \t3.95\t2  \n",
            "13 \t17    \t3.3 \t2  \n",
            "14 \t17    \t4   \t2  \n",
            "15 \t10    \t3.65\t2  \n",
            "16 \t16    \t3.75\t2  \n",
            "17 \t16    \t4.1 \t2  \n",
            "18 \t15    \t4.45\t2  \n",
            "19 \t9     \t3.4 \t2  \n",
            "20 \t12    \t3.9 \t2  \n",
            "21 \t14    \t4.35\t2  \n",
            "22 \t14    \t3.15\t2  \n",
            "23 \t14    \t3.7 \t2  \n",
            "24 \t17    \t3.3 \t2  \n",
            "25 \t16    \t3.45\t2  \n",
            "26 \t18    \t3.6 \t2  \n",
            "27 \t15    \t4.35\t2  \n",
            "28 \t16    \t3.8 \t2  \n",
            "29 \t16    \t4.3 \t2  \n",
            "30 \t13    \t3.8 \t2  \n",
            "31 \t16    \t3.85\t2  \n",
            "32 \t14    \t4.25\t2  \n",
            "33 \t13    \t3.4 \t2  \n",
            "34 \t11    \t2.95\t2  \n",
            "35 \t17    \t4.1 \t2  \n",
            "36 \t10    \t3.3 \t2  \n",
            "37 \t18    \t2.9 \t2  \n",
            "38 \t16    \t3.4 \t2  \n",
            "39 \t13    \t4.85\t2  \n",
            "40 \t16    \t4.05\t2  \n",
            "41 \t10    \t3.35\t2  \n",
            "42 \t17    \t5.05\t2  \n",
            "43 \t14    \t3.85\t2  \n",
            "44 \t17    \t3.25\t2  \n",
            "45 \t12    \t3.75\t2  \n",
            "46 \t18    \t3.6 \t2  \n",
            "47 \t16    \t3.25\t2  \n",
            "48 \t17    \t4.1 \t2  \n",
            "49 \t15    \t3.35\t2  \n",
            "50 \t19    \t3.9 \t2  \n",
            "51 \t16    \t2.75\t2  \n",
            "52 \t16    \t3.8 \t2  \n",
            "53 \t18    \t3.7 \t2  \n",
            "54 \t13    \t3.85\t2  \n",
            "55 \t18    \t4.45\t2  \n",
            "56 \t14    \t2.95\t2  \n",
            "57 \t14    \t3.45\t2  \n",
            "58 \t16    \t4.25\t2  \n",
            "59 \t17    \t4.3 \t2  \n",
            "60 \t16    \t4.7 \t2  \n",
            "61 \t15    \t4.5 \t2  \n",
            "62 \t16    \t3.45\t2  \n",
            "63 \t14    \t3.55\t2  \n",
            "64 \t16    \t4.3 \t2  \n",
            "65 \t13    \t3.45\t2  \n",
            "66 \t18    \t5.1 \t2  \n",
            "67 \t16    \t4.45\t2  \n",
            "68 \t15    \t4.2 \t2  \n",
            "69 \t14    \t3.55\t2  \n",
            "70 \t16    \t3.25\t2  \n",
            "71 \t18    \t4   \t2  \n",
            "72 \t17    \t3.1 \t2  \n",
            "73 \t16    \t2.7 \t2  \n",
            "74 \t15    \t3.85\t2  \n",
            "75 \t13    \t3.7 \t2  \n",
            "76 \t18    \t3.45\t2  \n",
            "77 \t13    \t3.35\t2  \n",
            "78 \t16    \t3.5 \t2  \n",
            "79 \t16    \t3.45\t2  \n",
            "80 \t17    \t4.15\t2  \n",
            "81 \t14    \t3.25\t2  \n",
            "82 \t16    \t4.3 \t2  \n",
            "83 \t19    \t5.15\t2  \n",
            "84 \t14    \t3.85\t2  \n",
            "85 \t11    \t4   \t2  \n",
            "86 \t15    \t3.7 \t2  \n",
            "87 \t16    \t4.05\t2  \n",
            "88 \t17    \t4.5 \t2  \n",
            "89 \t16    \t4.4 \t2  \n",
            "90 \t14    \t4.05\t2  \n",
            "91 \t17    \t3.55\t2  \n",
            "92 \t17    \t3.1 \t2  \n",
            "93 \t15    \t3.75\t2  \n",
            "94 \t13    \t3.1 \t2  \n",
            "95 \t14    \t4.95\t2  \n",
            "96 \t16    \t3.15\t2  \n",
            "97 \t18    \t2.9 \t2  \n",
            "98 \t19    \t3.85\t2  \n",
            "99 \t15    \t3.45\t2  \n",
            "100\t16    \t3.6 \t2  \n",
            "101\t17    \t4.95\t2  \n",
            "102\t17    \t3.85\t2  \n",
            "103\t18    \t3.75\t2  \n",
            "104\t15    \t3.3 \t2  \n",
            "105\t13    \t3.65\t2  \n",
            "106\t16    \t3.8 \t2  \n",
            "107\t15    \t3.65\t2  \n",
            "108\t14    \t3.95\t2  \n",
            "109\t16    \t4.25\t2  \n",
            "110\t17    \t3.45\t2  \n",
            "111\t18    \t4.7 \t2  \n",
            "112\t15    \t3.3 \t2  \n",
            "113\t15    \t2.9 \t2  \n",
            "114\t16    \t3.3 \t2  \n",
            "115\t7     \t3.25\t2  \n",
            "116\t14    \t3.5 \t2  \n",
            "117\t11    \t3.25\t2  \n",
            "118\t14    \t3.6 \t2  \n",
            "119\t19    \t4.3 \t2  \n",
            "120\t13    \t3.75\t2  \n",
            "121\t12    \t4.05\t2  \n",
            "122\t15    \t2.65\t2  \n",
            "123\t12    \t3.2 \t2  \n",
            "124\t14    \t3.7 \t2  \n",
            "125\t14    \t2.65\t2  \n",
            "126\t14    \t3.2 \t2  \n",
            "127\t18    \t4.05\t2  \n",
            "128\t18    \t4.1 \t2  \n",
            "129\t10    \t3.9 \t2  \n",
            "130\t15    \t3.85\t2  \n",
            "131\t18    \t4.65\t2  \n",
            "132\t17    \t3.75\t2  \n",
            "133\t17    \t3.4 \t2  \n",
            "134\t11    \t3.6 \t2  \n",
            "135\t15    \t4.35\t2  \n",
            "136\t17    \t4.4 \t2  \n",
            "137\t15    \t3.55\t2  \n",
            "138\t16    \t4   \t2  \n",
            "139\t13    \t2.7 \t2  \n",
            "140\t12    \t3.3 \t2  \n",
            "141\t14    \t3.7 \t2  \n",
            "142\t13    \t3.35\t2  \n",
            "143\t17    \t3.3 \t2  \n",
            "144\t17    \t3.55\t2  \n",
            "145\t13    \t3.1 \t2  \n",
            "146\t18    \t3.9 \t2  \n",
            "147\t17    \t3.2 \t2  \n",
            "148\t14    \t3.85\t2  \n",
            "149\t14    \t2.85\t2  \n",
            "150\t14    \t2.5 \t2  \n",
            "151\t14    \t3.75\t2  \n",
            "152\t15    \t3.35\t2  \n",
            "153\t12    \t3.75\t2  \n",
            "154\t15    \t3.1 \t2  \n",
            "155\t19    \t4.1 \t2  \n",
            "156\t19    \t4.8 \t2  \n",
            "157\t19    \t5.05\t2  \n",
            "158\t16    \t4.25\t2  \n",
            "159\t13    \t3.8 \t2  \n",
            "160\t16    \t3.25\t2  \n",
            "161\t17    \t3.85\t2  \n",
            "162\t12    \t3.35\t2  \n",
            "163\t15    \t3.95\t2  \n",
            "164\t14    \t3.8 \t2  \n",
            "165\t13    \t3.6 \t2  \n",
            "166\t18    \t4.65\t2  \n",
            "167\t12    \t3.6 \t2  \n",
            "168\t14    \t4.1 \t2  \n",
            "169\t17    \t3.3 \t2  \n",
            "170\t18    \t4.9 \t2  \n",
            "171\t11    \t4.35\t2  \n",
            "172\t15    \t3.45\t2  \n",
            "173\t14    \t4.15\t2  \n",
            "174\t10    \t3.7 \t1  \n",
            "175\t15    \t3.45\t1  \n",
            "176\t12    \t3   \t1  \n",
            "177\t14    \t2.95\t1  \n",
            "178\t17    \t3.2 \t1  \n",
            "179\t14    \t2.35\t1  \n",
            "180\t15    \t2   \t1  \n",
            "181\t16    \t2.15\t1  \n",
            "182\t14    \t2.35\t1  \n",
            "183\t13    \t3.85\t1  \n",
            "184\t16    \t3.7 \t1  \n",
            "185\t12    \t1.9 \t1  \n",
            "186\t14    \t3.4 \t1  \n",
            "187\t13    \t2.05\t1  \n",
            "188\t11    \t2.25\t1  \n",
            "189\t20    \t3.55\t1  \n",
            "190\t17    \t3.75\t1  \n",
            "191\t18    \t3.5 \t1  \n",
            "192\t19    \t2.8 \t1  \n",
            "193\t15    \t2.3 \t1  \n",
            "194\t16    \t3.25\t1  \n",
            "195\t19    \t3.85\t1  \n",
            "196\t15    \t4.05\t1  \n",
            "197\t16    \t3.6 \t1  \n",
            "198\t15    \t2.85\t1  \n",
            "199\t17    \t5   \t1  \n",
            "200\t14    \t4.25\t1  \n"
          ]
        }
      ]
    },
    {
      "cell_type": "markdown",
      "metadata": {
        "id": "OkApdsjQVOUL"
      },
      "source": [
        "### Plotting the average and minimum of each generation using a simple line graph."
      ]
    },
    {
      "cell_type": "code",
      "metadata": {
        "id": "gcFc3eOyVOUM",
        "scrolled": true,
        "outputId": "c80a93dd-5755-44be-97a8-90101258e02d",
        "colab": {
          "base_uri": "https://localhost:8080/",
          "height": 279
        }
      },
      "source": [
        "import matplotlib.pyplot as plt\n",
        "%matplotlib inline  \n",
        "\n",
        "gen = logbook.select(\"gen\")\n",
        "fit_mins = logbook.select(\"min\")\n",
        "size_avgs = logbook.select(\"avg\")\n",
        "\n",
        "import matplotlib.pyplot as plt\n",
        "\n",
        "fig, ax1 = plt.subplots()\n",
        "line1 = ax1.plot(gen, fit_mins, \"b-\", label=\"Minimum Fitness\")\n",
        "ax1.set_xlabel(\"Generation\")\n",
        "ax1.set_ylabel(\"Fitness\", color=\"b\")\n",
        "for tl in ax1.get_yticklabels():\n",
        "    tl.set_color(\"b\")\n",
        "\n",
        "ax2 = ax1.twinx()\n",
        "line2 = ax2.plot(gen, size_avgs, \"r-\", label=\"Average Size\")\n",
        "ax2.set_ylabel(\"Size\", color=\"r\")\n",
        "for tl in ax2.get_yticklabels():\n",
        "    tl.set_color(\"r\")\n",
        "\n",
        "lns = line1 + line2\n",
        "labs = [l.get_label() for l in lns]\n",
        "ax1.legend(lns, labs, loc=\"center right\")\n",
        "\n",
        "plt.show()\n",
        "\n",
        "\n",
        "\n"
      ],
      "execution_count": null,
      "outputs": [
        {
          "output_type": "display_data",
          "data": {
            "text/plain": [
              "<Figure size 432x288 with 2 Axes>"
            ],
            "image/png": "[encoded data removed]"
          },
          "metadata": {
            "needs_background": "light"
          }
        }
      ]
    },
    {
      "cell_type": "markdown",
      "metadata": {
        "id": "t6PFTvUZVOUN"
      },
      "source": [
        "### Showcasing the best individual chess board and its fitness value. "
      ]
    },
    {
      "cell_type": "code",
      "metadata": {
        "id": "-MeBQ0BZVOUO",
        "outputId": "7936b818-afdc-4f0b-a95a-7e64ec79ac1e",
        "colab": {
          "base_uri": "https://localhost:8080/"
        }
      },
      "source": [
        "print(\"Best individual board: \", hof[0])\n",
        "show_grid(hof[0])\n"
      ],
      "execution_count": null,
      "outputs": [
        {
          "output_type": "stream",
          "name": "stdout",
          "text": [
            "Best individual board:  [27, 61, 42, 1, 62, 48, 23, 12]\n",
            "-|X|-|-|-|-|-|-|\n",
            "----------------\n",
            "-|-|-|-|X|-|-|-|\n",
            "----------------\n",
            "-|-|-|-|-|-|-|X|\n",
            "----------------\n",
            "-|-|-|X|-|-|-|-|\n",
            "----------------\n",
            "-|-|-|-|-|-|-|-|\n",
            "----------------\n",
            "-|-|X|-|-|-|-|-|\n",
            "----------------\n",
            "X|-|-|-|-|-|-|-|\n",
            "----------------\n",
            "-|-|-|-|-|X|X|-|\n",
            "----------------\n"
          ]
        }
      ]
    },
    {
      "cell_type": "markdown",
      "metadata": {
        "id": "_PCJJdWAVOUP"
      },
      "source": [
        "# Initialization of the chess board with eight queens using a row-index-based board representation.\n",
        "### This representation puts each queen's value at an integer from 0-7, indicating its position in the particular row."
      ]
    },
    {
      "cell_type": "code",
      "metadata": {
        "id": "BF0R7swEVOUQ",
        "outputId": "d2c5f9b6-23bc-4afc-b80f-c452a176e0ee",
        "colab": {
          "base_uri": "https://localhost:8080/"
        }
      },
      "source": [
        "import random\n",
        "import numpy as np\n",
        "from deap import algorithms, base, creator, tools\n",
        "\n",
        "creator.create(\"FitnessMin\", base.Fitness, weights=(-1.0,))\n",
        "creator.create(\"Individual\", list, fitness=creator.FitnessMin)\n"
      ],
      "execution_count": null,
      "outputs": [
        {
          "output_type": "stream",
          "name": "stderr",
          "text": [
            "/usr/local/lib/python3.7/dist-packages/deap/creator.py:141: RuntimeWarning: A class named 'FitnessMin' has already been created and it will be overwritten. Consider deleting previous creation of that class or rename it.\n",
            "  RuntimeWarning)\n",
            "/usr/local/lib/python3.7/dist-packages/deap/creator.py:141: RuntimeWarning: A class named 'Individual' has already been created and it will be overwritten. Consider deleting previous creation of that class or rename it.\n",
            "  RuntimeWarning)\n"
          ]
        }
      ]
    },
    {
      "cell_type": "code",
      "metadata": {
        "id": "n4II9oePVOUS",
        "colab": {
          "base_uri": "https://localhost:8080/"
        },
        "outputId": "a2da2ba9-cce3-460b-8feb-f443ec1febc3"
      },
      "source": [
        "# Creating and registering functions to the toolbox.\n",
        "toolbox = base.Toolbox()\n",
        "toolbox.register(\"attr_int\", random.randint, 0, 7)\n",
        "toolbox.register(\"individual\", tools.initRepeat, creator.Individual,\n",
        "                 toolbox.attr_int, n=8)\n",
        "toolbox.individual()"
      ],
      "execution_count": null,
      "outputs": [
        {
          "output_type": "execute_result",
          "data": {
            "text/plain": [
              "[3, 0, 6, 3, 4, 0, 1, 7]"
            ]
          },
          "metadata": {},
          "execution_count": 21
        }
      ]
    },
    {
      "cell_type": "code",
      "metadata": {
        "id": "97EqErd3VOUX"
      },
      "source": [
        "# Function used to display the row-index-based board representation.\n",
        "def show_grid(board):\n",
        "    \n",
        "    n = [0]*64\n",
        "    \n",
        "    for i in range(len(board)):\n",
        "        n[board[i] + i*8] = 1\n",
        "      \n",
        "    \n",
        "    for i in range(8):\n",
        "        for j in range(64):\n",
        "            if j // 8 == i:\n",
        "                if n[j] == 1:\n",
        "                    print('X',end=\"|\")\n",
        "                else:\n",
        "                    print('-',end=\"|\")\n",
        "        print()\n",
        "        print(\"----------------\")\n"
      ],
      "execution_count": null,
      "outputs": []
    },
    {
      "cell_type": "code",
      "metadata": {
        "id": "UxkDfoxbVOUb",
        "colab": {
          "base_uri": "https://localhost:8080/"
        },
        "outputId": "d0da93ab-7716-4345-a0c2-a48c1b21e597"
      },
      "source": [
        "# Registering and displaying a generation of queens.\n",
        "toolbox.register(\"population\", tools.initRepeat, list, toolbox.individual)\n",
        "pop = toolbox.population(n=5)\n",
        "\n",
        "print(pop[0])\n",
        "show_grid(pop[0])"
      ],
      "execution_count": null,
      "outputs": [
        {
          "output_type": "stream",
          "name": "stdout",
          "text": [
            "[0, 3, 6, 5, 3, 4, 2, 1]\n",
            "X|-|-|-|-|-|-|-|\n",
            "----------------\n",
            "-|-|-|X|-|-|-|-|\n",
            "----------------\n",
            "-|-|-|-|-|-|X|-|\n",
            "----------------\n",
            "-|-|-|-|-|X|-|-|\n",
            "----------------\n",
            "-|-|-|X|-|-|-|-|\n",
            "----------------\n",
            "-|-|-|-|X|-|-|-|\n",
            "----------------\n",
            "-|-|X|-|-|-|-|-|\n",
            "----------------\n",
            "-|X|-|-|-|-|-|-|\n",
            "----------------\n"
          ]
        }
      ]
    },
    {
      "cell_type": "markdown",
      "metadata": {
        "id": "6_wZvS3mVOUh"
      },
      "source": [
        "## Evaluating the Fitness of a Board\n",
        "### This function determines if the queens on a row-index-based board representation are valid as a solution to the n-queens problem by anaylzing spacing of the positions of queens. Duplicate queen positions are subsequentially handled.\n"
      ]
    },
    {
      "cell_type": "code",
      "metadata": {
        "id": "bk1Rn57oVOUi"
      },
      "source": [
        "#fitness function\n",
        "def evaFitness(individual):\n",
        "    size = len(individual)\n",
        "    conflicts = 0\n",
        "    for i in range(size):\n",
        "        for m in range(i+1, size):\n",
        "            if individual[i] == individual[m] and i != m:\n",
        "                conflicts += 1\n",
        "                \n",
        "    ##check for diagnals\n",
        "    for t in range(size):\n",
        "        for n in range(t+1, size):\n",
        "            #determine right diagnal by checking the spacing between the two points \n",
        "            if(individual[n] == (individual[t]+(n-t))):\n",
        "                conflicts += 1\n",
        "            #determine left diagnal by checking the spacing between the two points \n",
        "            elif(individual[n] == (individual[t]-(n-t))):\n",
        "                conflicts += 1\n",
        "    return (conflicts,)\n",
        " "
      ],
      "execution_count": null,
      "outputs": []
    },
    {
      "cell_type": "code",
      "metadata": {
        "id": "O-xOKMI4VOUl"
      },
      "source": [
        "# Registering functions, evaluate, mate, mutate and select to the toolbox.\n",
        "toolbox.register(\"evaluate\", evaFitness)\n",
        "toolbox.register(\"mate\", tools.cxTwoPoint)\n",
        "toolbox.register(\"mutate\", tools.mutUniformInt, low = 0, up = 7, indpb=0.2)\n",
        "toolbox.register(\"select\", tools.selTournament, tournsize=3)"
      ],
      "execution_count": null,
      "outputs": []
    },
    {
      "cell_type": "code",
      "metadata": {
        "id": "R1jlpMTNVOUn"
      },
      "source": [
        "# Additionally, registering a statistics toolbox, with the functions, avg and min.\n",
        "stats = tools.Statistics(key=lambda ind: ind.fitness.values)\n",
        "stats.register(\"avg\", np.mean)\n",
        "stats.register(\"min\", np.min)"
      ],
      "execution_count": null,
      "outputs": []
    },
    {
      "cell_type": "markdown",
      "metadata": {
        "id": "pyRth-sHVOUq"
      },
      "source": [
        "##Creating the first generation, the hall of fame, and running the eaSimple genetic algorithm for 100 generations."
      ]
    },
    {
      "cell_type": "code",
      "metadata": {
        "id": "3aJJcDUVVOUq",
        "scrolled": true,
        "outputId": "deeffba2-a405-4121-d830-e55331486f83",
        "colab": {
          "base_uri": "https://localhost:8080/"
        }
      },
      "source": [
        "# Creating a the hall of fame, and running the algorithm for 100 generations.\n",
        "hof = tools.HallOfFame(1)\n",
        "pop = toolbox.population(n=20)\n",
        "pop, logbook = algorithms.eaSimple(pop, toolbox, cxpb=0.5, mutpb=0.5 ,ngen=200, halloffame=hof, stats = stats, verbose = True)"
      ],
      "execution_count": null,
      "outputs": [
        {
          "output_type": "stream",
          "name": "stdout",
          "text": [
            "gen\tnevals\tavg\tmin\n",
            "0  \t20    \t8.4\t4  \n",
            "1  \t16    \t6.75\t3  \n",
            "2  \t18    \t5.7 \t3  \n",
            "3  \t14    \t5   \t4  \n",
            "4  \t15    \t4.8 \t2  \n",
            "5  \t14    \t4.1 \t2  \n",
            "6  \t14    \t3.6 \t2  \n",
            "7  \t13    \t3.3 \t2  \n",
            "8  \t12    \t3.8 \t2  \n",
            "9  \t15    \t3.15\t2  \n",
            "10 \t16    \t3.45\t2  \n",
            "11 \t16    \t3.55\t2  \n",
            "12 \t15    \t3.6 \t2  \n",
            "13 \t13    \t3.15\t2  \n",
            "14 \t16    \t3.05\t2  \n",
            "15 \t17    \t3.55\t2  \n",
            "16 \t16    \t3.35\t2  \n",
            "17 \t15    \t2.9 \t2  \n",
            "18 \t15    \t3.55\t2  \n",
            "19 \t16    \t3.35\t2  \n",
            "20 \t15    \t3.45\t2  \n",
            "21 \t15    \t3.35\t2  \n",
            "22 \t17    \t3.25\t2  \n",
            "23 \t14    \t4.05\t2  \n",
            "24 \t17    \t3.35\t2  \n",
            "25 \t13    \t2.75\t2  \n",
            "26 \t16    \t3.35\t2  \n",
            "27 \t14    \t3.1 \t2  \n",
            "28 \t17    \t3.15\t2  \n",
            "29 \t14    \t3.25\t2  \n",
            "30 \t15    \t3.7 \t2  \n",
            "31 \t15    \t4.6 \t2  \n",
            "32 \t11    \t3.45\t2  \n",
            "33 \t16    \t3   \t2  \n",
            "34 \t15    \t3.3 \t2  \n",
            "35 \t17    \t2.9 \t2  \n",
            "36 \t15    \t3.05\t2  \n",
            "37 \t14    \t3.5 \t2  \n",
            "38 \t14    \t4   \t1  \n",
            "39 \t15    \t3.35\t1  \n",
            "40 \t15    \t3.15\t1  \n",
            "41 \t14    \t2.5 \t1  \n",
            "42 \t12    \t2.3 \t1  \n",
            "43 \t16    \t2.7 \t1  \n",
            "44 \t15    \t2.6 \t1  \n",
            "45 \t13    \t2.9 \t1  \n",
            "46 \t11    \t2.75\t1  \n",
            "47 \t13    \t2.25\t1  \n",
            "48 \t17    \t2.7 \t1  \n",
            "49 \t13    \t2.9 \t1  \n",
            "50 \t15    \t2.55\t1  \n",
            "51 \t13    \t2.45\t1  \n",
            "52 \t15    \t2.25\t1  \n",
            "53 \t16    \t3   \t1  \n",
            "54 \t15    \t2.75\t1  \n",
            "55 \t16    \t2.9 \t1  \n",
            "56 \t17    \t2.4 \t1  \n",
            "57 \t14    \t2.15\t1  \n",
            "58 \t14    \t1.75\t1  \n",
            "59 \t17    \t2.5 \t1  \n",
            "60 \t16    \t2.35\t1  \n",
            "61 \t13    \t2.05\t1  \n",
            "62 \t15    \t2   \t1  \n",
            "63 \t18    \t3.3 \t1  \n",
            "64 \t15    \t3.2 \t1  \n",
            "65 \t17    \t3.3 \t1  \n",
            "66 \t13    \t2.7 \t1  \n",
            "67 \t11    \t2.35\t1  \n",
            "68 \t13    \t2.8 \t1  \n",
            "69 \t15    \t2.95\t1  \n",
            "70 \t13    \t2.55\t1  \n",
            "71 \t13    \t2.25\t1  \n",
            "72 \t13    \t1.9 \t1  \n",
            "73 \t10    \t1.6 \t1  \n",
            "74 \t16    \t1.9 \t1  \n",
            "75 \t16    \t2.6 \t1  \n",
            "76 \t16    \t2.05\t1  \n",
            "77 \t16    \t2.8 \t1  \n",
            "78 \t18    \t2.35\t1  \n",
            "79 \t17    \t1.5 \t1  \n",
            "80 \t15    \t1.95\t1  \n",
            "81 \t16    \t1.75\t1  \n",
            "82 \t19    \t2.4 \t1  \n",
            "83 \t14    \t1.65\t1  \n",
            "84 \t19    \t2.5 \t1  \n",
            "85 \t17    \t2.9 \t1  \n",
            "86 \t16    \t2.7 \t1  \n",
            "87 \t16    \t2.35\t1  \n",
            "88 \t10    \t1.85\t1  \n",
            "89 \t16    \t3.15\t1  \n",
            "90 \t15    \t2.7 \t1  \n",
            "91 \t15    \t2.05\t1  \n",
            "92 \t18    \t2.5 \t1  \n",
            "93 \t15    \t3.15\t1  \n",
            "94 \t16    \t2.9 \t1  \n",
            "95 \t19    \t2.85\t1  \n",
            "96 \t15    \t2.25\t1  \n",
            "97 \t16    \t2.5 \t1  \n",
            "98 \t19    \t3.2 \t1  \n",
            "99 \t16    \t2.65\t1  \n",
            "100\t14    \t2.15\t1  \n",
            "101\t12    \t2.1 \t1  \n",
            "102\t17    \t2.75\t1  \n",
            "103\t11    \t2.45\t1  \n",
            "104\t14    \t2   \t1  \n",
            "105\t16    \t2.25\t1  \n",
            "106\t13    \t2.2 \t1  \n",
            "107\t11    \t2.05\t1  \n",
            "108\t16    \t3.1 \t1  \n",
            "109\t17    \t2.9 \t1  \n",
            "110\t16    \t2.85\t1  \n",
            "111\t14    \t2.3 \t1  \n",
            "112\t18    \t4.1 \t1  \n",
            "113\t12    \t2.05\t1  \n",
            "114\t15    \t2.25\t1  \n",
            "115\t11    \t2.2 \t1  \n",
            "116\t15    \t3.05\t1  \n",
            "117\t15    \t2.25\t1  \n",
            "118\t14    \t1.85\t1  \n",
            "119\t10    \t1.8 \t1  \n",
            "120\t18    \t3.25\t1  \n",
            "121\t15    \t2.2 \t1  \n",
            "122\t16    \t2.65\t1  \n",
            "123\t16    \t2.2 \t1  \n",
            "124\t15    \t2.35\t1  \n",
            "125\t15    \t2.1 \t1  \n",
            "126\t17    \t2.45\t1  \n",
            "127\t15    \t2.95\t1  \n",
            "128\t17    \t3.05\t1  \n",
            "129\t19    \t3.35\t1  \n",
            "130\t12    \t3.25\t1  \n",
            "131\t15    \t2   \t1  \n",
            "132\t9     \t1.75\t1  \n",
            "133\t13    \t2.1 \t1  \n",
            "134\t20    \t2.05\t1  \n",
            "135\t16    \t2.65\t1  \n",
            "136\t13    \t2.8 \t1  \n",
            "137\t14    \t2.05\t1  \n",
            "138\t16    \t1.7 \t1  \n",
            "139\t18    \t2.55\t1  \n",
            "140\t17    \t2.2 \t1  \n",
            "141\t14    \t1.9 \t1  \n",
            "142\t18    \t2.25\t1  \n",
            "143\t11    \t1.9 \t1  \n",
            "144\t11    \t1.55\t1  \n",
            "145\t12    \t2.6 \t1  \n",
            "146\t17    \t3.55\t1  \n",
            "147\t11    \t2.3 \t1  \n",
            "148\t15    \t2.1 \t1  \n",
            "149\t12    \t1.85\t1  \n",
            "150\t16    \t2.3 \t1  \n",
            "151\t15    \t3.5 \t1  \n",
            "152\t17    \t3.25\t1  \n",
            "153\t16    \t2.2 \t1  \n",
            "154\t11    \t2.2 \t1  \n",
            "155\t17    \t2.4 \t1  \n",
            "156\t8     \t1.5 \t1  \n",
            "157\t14    \t2.35\t1  \n",
            "158\t15    \t1.85\t1  \n",
            "159\t16    \t2.15\t1  \n",
            "160\t16    \t2.7 \t1  \n",
            "161\t15    \t3.55\t1  \n",
            "162\t18    \t2.6 \t1  \n",
            "163\t18    \t3   \t1  \n",
            "164\t14    \t2.25\t1  \n",
            "165\t16    \t2.35\t1  \n",
            "166\t20    \t2.3 \t1  \n",
            "167\t11    \t2.8 \t1  \n",
            "168\t17    \t2.25\t1  \n",
            "169\t15    \t2.85\t1  \n",
            "170\t11    \t2.55\t1  \n",
            "171\t20    \t3.05\t1  \n",
            "172\t13    \t2.5 \t1  \n",
            "173\t11    \t1.7 \t1  \n",
            "174\t16    \t3   \t1  \n",
            "175\t14    \t3.45\t1  \n",
            "176\t16    \t2.4 \t1  \n",
            "177\t14    \t2.7 \t1  \n",
            "178\t16    \t2.7 \t1  \n",
            "179\t15    \t1.65\t1  \n",
            "180\t13    \t1.95\t1  \n",
            "181\t17    \t2.95\t1  \n",
            "182\t12    \t2.35\t1  \n",
            "183\t8     \t1.65\t1  \n",
            "184\t15    \t2   \t1  \n",
            "185\t17    \t2.2 \t1  \n",
            "186\t13    \t2.6 \t1  \n",
            "187\t9     \t1.9 \t1  \n",
            "188\t18    \t2.55\t1  \n",
            "189\t17    \t2.95\t1  \n",
            "190\t17    \t2.65\t1  \n",
            "191\t12    \t2.25\t1  \n",
            "192\t15    \t2.45\t1  \n",
            "193\t15    \t2.4 \t1  \n",
            "194\t13    \t1.85\t1  \n",
            "195\t15    \t1.8 \t1  \n",
            "196\t16    \t2.1 \t1  \n",
            "197\t16    \t2.15\t1  \n",
            "198\t11    \t2.1 \t1  \n",
            "199\t16    \t2   \t1  \n",
            "200\t15    \t2.25\t1  \n"
          ]
        }
      ]
    },
    {
      "cell_type": "markdown",
      "metadata": {
        "id": "xrJfr0ePVOUs"
      },
      "source": [
        "## Plotting the average and minimum of each generation using a simple line graph."
      ]
    },
    {
      "cell_type": "code",
      "metadata": {
        "id": "LJyAUq4WVOUs",
        "outputId": "3a623197-3256-44b1-b11d-f07418089b0a",
        "colab": {
          "base_uri": "https://localhost:8080/",
          "height": 279
        }
      },
      "source": [
        "import matplotlib.pyplot as plt\n",
        "%matplotlib inline  \n",
        "\n",
        "gen = logbook.select(\"gen\")\n",
        "fit_mins = logbook.select(\"min\")\n",
        "size_avgs = logbook.select(\"avg\")\n",
        "\n",
        "import matplotlib.pyplot as plt\n",
        "\n",
        "fig, ax1 = plt.subplots()\n",
        "line1 = ax1.plot(gen, fit_mins, \"b-\", label=\"Minimum Fitness\")\n",
        "ax1.set_xlabel(\"Generation\")\n",
        "ax1.set_ylabel(\"Fitness\", color=\"b\")\n",
        "for tl in ax1.get_yticklabels():\n",
        "    tl.set_color(\"b\")\n",
        "\n",
        "ax2 = ax1.twinx()\n",
        "line2 = ax2.plot(gen, size_avgs, \"r-\", label=\"Average Size\")\n",
        "ax2.set_ylabel(\"Size\", color=\"r\")\n",
        "for tl in ax2.get_yticklabels():\n",
        "    tl.set_color(\"r\")\n",
        "\n",
        "lns = line1 + line2\n",
        "labs = [l.get_label() for l in lns]\n",
        "ax1.legend(lns, labs, loc=\"center right\")\n",
        "\n",
        "plt.show()"
      ],
      "execution_count": null,
      "outputs": [
        {
          "output_type": "display_data",
          "data": {
            "text/plain": [
              "<Figure size 432x288 with 2 Axes>"
            ],
            "image/png": "[encoded data removed]"
          },
          "metadata": {
            "needs_background": "light"
          }
        }
      ]
    },
    {
      "cell_type": "markdown",
      "metadata": {
        "id": "ry6HXqIMVOUv"
      },
      "source": [
        "### Showcasing the best individual chess board and its fitness value. \n"
      ]
    },
    {
      "cell_type": "code",
      "metadata": {
        "id": "PkC9uOqCVOUv",
        "scrolled": true,
        "outputId": "c46b943a-014f-4ef1-eca0-5cf62beec812",
        "colab": {
          "base_uri": "https://localhost:8080/"
        }
      },
      "source": [
        "print(\"Best individual board: \", hof[0])\n",
        "show_grid(hof[0])\n"
      ],
      "execution_count": null,
      "outputs": [
        {
          "output_type": "stream",
          "name": "stdout",
          "text": [
            "Best individual board:  [4, 1, 7, 6, 3, 0, 2, 5]\n",
            "-|-|-|-|X|-|-|-|\n",
            "----------------\n",
            "-|X|-|-|-|-|-|-|\n",
            "----------------\n",
            "-|-|-|-|-|-|-|X|\n",
            "----------------\n",
            "-|-|-|-|-|-|X|-|\n",
            "----------------\n",
            "-|-|-|X|-|-|-|-|\n",
            "----------------\n",
            "X|-|-|-|-|-|-|-|\n",
            "----------------\n",
            "-|-|X|-|-|-|-|-|\n",
            "----------------\n",
            "-|-|-|-|-|X|-|-|\n",
            "----------------\n"
          ]
        }
      ]
    },
    {
      "cell_type": "markdown",
      "metadata": {
        "id": "qhba2jQ1VOUw"
      },
      "source": [
        "## Analyzation and comparison of the two different representations. "
      ]
    },
    {
      "cell_type": "markdown",
      "metadata": {
        "id": "S7bzhe4FEzX-"
      },
      "source": [
        "Between the two different graphs, the row-index-based board representation(RIB) seems to be a better representation. In comparison, RIB seems to have to have a lower fitness overall compared to the position-based(PB) board representation, while also decreasing at a much faster rate. However, the average size for PB is lower by .5 as the generations go on. Based on these observations, I believe that the RIB board representation is the better choice as it is able to lower the fitness a lot sooner and generate a lower fitness score more consistently. When changing the parameters and increasing the number of generations, the RIB consistently calculates lower fitness scores. By changing the chance of mutation by .1, the fitness seems to go a bit lower, however, by going any further, it creates varying values of fitness. "
      ]
    }
  ]
}